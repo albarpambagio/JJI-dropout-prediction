{
 "cells": [
  {
   "cell_type": "markdown",
   "id": "95fcefc7",
   "metadata": {},
   "source": [
    "\"\"\"\n",
    "Exploratory Data Analysis (EDA) for Student Dropout Prediction\n",
    "-------------------------------------------------------------\n",
    "This notebook explores the UCI Student Dropout and Academic Success dataset (id=697) to understand the factors associated with student dropout, graduation, and enrollment. Each section below focuses on a different aspect of the data, with visualizations and summary statistics to guide feature engineering and modeling decisions.\n",
    "\"\"\"\n",
    "\n",
    "from ucimlrepo import fetch_ucirepo\n",
    "import pandas as pd\n",
    "import numpy as np\n",
    "import matplotlib.pyplot as plt\n",
    "import seaborn as sns\n",
    "from IPython.display import display\n",
    "import os"
   ]
  },
  {
   "cell_type": "markdown",
   "id": "dc9f6634",
   "metadata": {
    "cell_marker": "\"\"\""
   },
   "source": [
    "## 1. Load Dataset\n",
    "We begin by loading the dataset from the UCI Machine Learning Repository. This dataset contains demographic, academic, socioeconomic, and macroeconomic features for students, along with their final status (Dropout, Enrolled, Graduate)."
   ]
  },
  {
   "cell_type": "code",
   "execution_count": null,
   "id": "ff5e2424",
   "metadata": {},
   "outputs": [],
   "source": [
    "predict_students_dropout_and_academic_success = fetch_ucirepo(id=697)\n",
    "df = predict_students_dropout_and_academic_success.data.original.copy()\n",
    "df.head()"
   ]
  },
  {
   "cell_type": "markdown",
   "id": "f2942d09",
   "metadata": {
    "cell_marker": "\"\"\""
   },
   "source": [
    "## 2. Target Variable Analysis\n",
    "Understanding the distribution of the target variable is crucial for modeling. Here, we visualize the class balance between Dropout, Enrolled, and Graduate students."
   ]
  },
  {
   "cell_type": "code",
   "execution_count": null,
   "id": "770e3171",
   "metadata": {},
   "outputs": [],
   "source": [
    "plt.figure(figsize=(6,4))\n",
    "sns.countplot(x='Target', data=df)\n",
    "plt.title('Distribution of Target Classes')\n",
    "plt.show()\n",
    "display(df['Target'].value_counts(normalize=True))\n",
    "os.makedirs('eda_outputs', exist_ok=True)\n",
    "df['Target'].value_counts(normalize=True).to_csv('eda_outputs/eda_target_value_counts.csv')"
   ]
  },
  {
   "cell_type": "markdown",
   "id": "e1f85ad7",
   "metadata": {
    "cell_marker": "\"\"\""
   },
   "source": [
    "## 3. Demographic Features\n",
    "We explore how demographic variables such as marital status, gender, age at enrollment, and nationality relate to student outcomes. This helps identify potential risk groups."
   ]
  },
  {
   "cell_type": "code",
   "execution_count": null,
   "id": "bc1ade35",
   "metadata": {},
   "outputs": [],
   "source": [
    "demographic_vars = ['Marital Status', 'Gender', 'Age at enrollment', 'Nacionality']\n",
    "for var in demographic_vars:\n",
    "    plt.figure(figsize=(6,4))\n",
    "    if df[var].nunique() < 20:\n",
    "        sns.countplot(x=var, hue='Target', data=df)\n",
    "        # Export value counts by target\n",
    "        vc = df.groupby('Target')[var].value_counts().unstack(fill_value=0)\n",
    "        clean_var_name = (\n",
    "            var.replace(\" \", \"_\")\n",
    "               .replace(\"(\", \"\")\n",
    "               .replace(\")\", \"\")\n",
    "               .replace(\"'\", \"\")\n",
    "               .replace(\"/\", \"_\")\n",
    "               .replace(\"\\\\\", \"_\")\n",
    "               .lower()\n",
    "        )\n",
    "        vc.to_csv(f'eda_outputs/eda_{clean_var_name}_by_target.csv')\n",
    "    else:\n",
    "        for t in df['Target'].unique():\n",
    "            sns.kdeplot(df[df['Target']==t][var], label=t)\n",
    "        plt.legend()\n",
    "    plt.title(f'{var} by Target')\n",
    "    plt.show()"
   ]
  },
  {
   "cell_type": "markdown",
   "id": "de0b5b81",
   "metadata": {
    "cell_marker": "\"\"\""
   },
   "source": [
    "## 4. Academic Background\n",
    "This section examines students' prior academic qualifications and their parents' education, which may influence academic success or dropout risk."
   ]
  },
  {
   "cell_type": "code",
   "execution_count": null,
   "id": "8ce0bf68",
   "metadata": {},
   "outputs": [],
   "source": [
    "background_vars = ['Previous qualification', 'Previous qualification (grade)', \"Mother's qualification\", \"Father's qualification\"]\n",
    "for var in background_vars:\n",
    "    plt.figure(figsize=(6,4))\n",
    "    if df[var].nunique() < 20:\n",
    "        sns.countplot(x=var, hue='Target', data=df)\n",
    "        vc = df.groupby('Target')[var].value_counts().unstack(fill_value=0)\n",
    "        clean_var_name = (\n",
    "            var.replace(\" \", \"_\")\n",
    "               .replace(\"(\", \"\")\n",
    "               .replace(\")\", \"\")\n",
    "               .replace(\"'\", \"\")\n",
    "               .replace(\"/\", \"_\")\n",
    "               .replace(\"\\\\\", \"_\")\n",
    "               .lower()\n",
    "        )\n",
    "        vc.to_csv(f'eda_outputs/eda_{clean_var_name}_by_target.csv')\n",
    "    else:\n",
    "        for t in df['Target'].unique():\n",
    "            sns.kdeplot(df[df['Target']==t][var], label=t)\n",
    "        plt.legend()\n",
    "    plt.title(f'{var} by Target')\n",
    "    plt.show()"
   ]
  },
  {
   "cell_type": "markdown",
   "id": "a5466bc3",
   "metadata": {
    "cell_marker": "\"\"\""
   },
   "source": [
    "## 5. Socioeconomic Features\n",
    "Socioeconomic factors such as parents' occupation, scholarship status, and displacement are analyzed to see their impact on student outcomes."
   ]
  },
  {
   "cell_type": "code",
   "execution_count": null,
   "id": "e56c3235",
   "metadata": {},
   "outputs": [],
   "source": [
    "socio_vars = [\"Mother's occupation\", \"Father's occupation\", 'Scholarship holder', 'Displaced', 'International']\n",
    "for var in socio_vars:\n",
    "    plt.figure(figsize=(6,4))\n",
    "    if df[var].nunique() < 20:\n",
    "        sns.countplot(x=var, hue='Target', data=df)\n",
    "        vc = df.groupby('Target')[var].value_counts().unstack(fill_value=0)\n",
    "        clean_var_name = (\n",
    "            var.replace(\" \", \"_\")\n",
    "               .replace(\"(\", \"\")\n",
    "               .replace(\")\", \"\")\n",
    "               .replace(\"'\", \"\")\n",
    "               .replace(\"/\", \"_\")\n",
    "               .replace(\"\\\\\", \"_\")\n",
    "               .lower()\n",
    "        )\n",
    "        vc.to_csv(f'eda_outputs/eda_{clean_var_name}_by_target.csv')\n",
    "    else:\n",
    "        for t in df['Target'].unique():\n",
    "            sns.kdeplot(df[df['Target']==t][var], label=t)\n",
    "        plt.legend()\n",
    "    plt.title(f'{var} by Target')\n",
    "    plt.show()"
   ]
  },
  {
   "cell_type": "markdown",
   "id": "4280287c",
   "metadata": {
    "cell_marker": "\"\"\""
   },
   "source": [
    "## 6. Academic Performance at University\n",
    "We analyze students' university performance, including grades and curricular unit statistics, to see how academic progress relates to dropout or graduation."
   ]
  },
  {
   "cell_type": "code",
   "execution_count": null,
   "id": "59071cdf",
   "metadata": {},
   "outputs": [],
   "source": [
    "perf_vars = ['Admission grade',\n",
    "             'Curricular units 1st sem (credited)', 'Curricular units 1st sem (enrolled)',\n",
    "             'Curricular units 1st sem (evaluations)', 'Curricular units 1st sem (approved)',\n",
    "             'Curricular units 1st sem (grade)', 'Curricular units 1st sem (without evaluations)',\n",
    "             'Curricular units 2nd sem (credited)', 'Curricular units 2nd sem (enrolled)',\n",
    "             'Curricular units 2nd sem (evaluations)', 'Curricular units 2nd sem (approved)',\n",
    "             'Curricular units 2nd sem (grade)', 'Curricular units 2nd sem (without evaluations)']\n",
    "for var in perf_vars:\n",
    "    plt.figure(figsize=(6,4))\n",
    "    for t in df['Target'].unique():\n",
    "        sns.kdeplot(df[df['Target']==t][var], label=t)\n",
    "    plt.legend()\n",
    "    plt.title(f'{var} by Target')\n",
    "    plt.show()\n",
    "    means = df.groupby('Target')[var].mean()\n",
    "    clean_var_name = (\n",
    "        var.replace(\" \", \"_\")\n",
    "           .replace(\"(\", \"\")\n",
    "           .replace(\")\", \"\")\n",
    "           .replace(\"'\", \"\")\n",
    "           .replace(\"/\", \"_\")\n",
    "           .replace(\"\\\\\", \"_\")\n",
    "           .lower()\n",
    "    )\n",
    "    means.to_csv(f'eda_outputs/eda_{clean_var_name}_mean_by_target.csv')"
   ]
  },
  {
   "cell_type": "markdown",
   "id": "3d912150",
   "metadata": {
    "cell_marker": "\"\"\""
   },
   "source": [
    "## 7. Financial and Administrative Features\n",
    "Financial status (debtor, tuition fees up to date) may be linked to dropout risk. We visualize these features by target class."
   ]
  },
  {
   "cell_type": "code",
   "execution_count": null,
   "id": "a4605614",
   "metadata": {},
   "outputs": [],
   "source": [
    "fin_vars = ['Debtor', 'Tuition fees up to date']\n",
    "for var in fin_vars:\n",
    "    plt.figure(figsize=(6,4))\n",
    "    sns.countplot(x=var, hue='Target', data=df)\n",
    "    plt.title(f'{var} by Target')\n",
    "    plt.show()\n",
    "    vc = df.groupby('Target')[var].value_counts().unstack(fill_value=0)\n",
    "    clean_var_name = (\n",
    "        var.replace(\" \", \"_\")\n",
    "           .replace(\"(\", \"\")\n",
    "           .replace(\")\", \"\")\n",
    "           .replace(\"'\", \"\")\n",
    "           .replace(\"/\", \"_\")\n",
    "           .replace(\"\\\\\", \"_\")\n",
    "           .lower()\n",
    "    )\n",
    "    vc.to_csv(f'eda_outputs/eda_{clean_var_name}_by_target.csv')"
   ]
  },
  {
   "cell_type": "markdown",
   "id": "87198d24",
   "metadata": {
    "cell_marker": "\"\"\""
   },
   "source": [
    "## 8. Course and Enrollment Features\n",
    "Course choice, application mode, and attendance type may influence student trajectories. We explore these features here."
   ]
  },
  {
   "cell_type": "code",
   "execution_count": null,
   "id": "d5d9e5f8",
   "metadata": {},
   "outputs": [],
   "source": [
    "course_vars = ['Course', 'Application mode', 'Application order', 'Daytime/evening attendance']\n",
    "for var in course_vars:\n",
    "    plt.figure(figsize=(6,4))\n",
    "    if df[var].nunique() < 20:\n",
    "        sns.countplot(x=var, hue='Target', data=df)\n",
    "        vc = df.groupby('Target')[var].value_counts().unstack(fill_value=0)\n",
    "        clean_var_name = (\n",
    "            var.replace(\" \", \"_\")\n",
    "               .replace(\"(\", \"\")\n",
    "               .replace(\")\", \"\")\n",
    "               .replace(\"'\", \"\")\n",
    "               .replace(\"/\", \"_\")\n",
    "               .replace(\"\\\\\", \"_\")\n",
    "               .lower()\n",
    "        )\n",
    "        vc.to_csv(f'eda_outputs/eda_{clean_var_name}_by_target.csv')\n",
    "    else:\n",
    "        for t in df['Target'].unique():\n",
    "            sns.kdeplot(df[df['Target']==t][var], label=t)\n",
    "        plt.legend()\n",
    "    plt.title(f'{var} by Target')\n",
    "    plt.show()"
   ]
  },
  {
   "cell_type": "markdown",
   "id": "b590348d",
   "metadata": {
    "cell_marker": "\"\"\""
   },
   "source": [
    "## 9. Macroeconomic Features\n",
    "Macroeconomic context (unemployment, inflation, GDP) may affect student decisions. We visualize these variables by target class."
   ]
  },
  {
   "cell_type": "code",
   "execution_count": null,
   "id": "4ae56385",
   "metadata": {},
   "outputs": [],
   "source": [
    "macro_vars = ['Unemployment rate', 'Inflation rate', 'GDP']\n",
    "for var in macro_vars:\n",
    "    plt.figure(figsize=(6,4))\n",
    "    for t in df['Target'].unique():\n",
    "        sns.kdeplot(df[df['Target']==t][var], label=t)\n",
    "    plt.legend()\n",
    "    plt.title(f'{var} by Target')\n",
    "    plt.show()\n",
    "    means = df.groupby('Target')[var].mean()\n",
    "    clean_var_name = (\n",
    "        var.replace(\" \", \"_\")\n",
    "           .replace(\"(\", \"\")\n",
    "           .replace(\")\", \"\")\n",
    "           .replace(\"'\", \"\")\n",
    "           .replace(\"/\", \"_\")\n",
    "           .replace(\"\\\\\", \"_\")\n",
    "           .lower()\n",
    "    )\n",
    "    means.to_csv(f'eda_outputs/eda_{clean_var_name}_mean_by_target.csv')"
   ]
  },
  {
   "cell_type": "markdown",
   "id": "549ec09c",
   "metadata": {
    "cell_marker": "\"\"\""
   },
   "source": [
    "## 10. Special Needs\n",
    "We examine the distribution of students with educational special needs across target classes."
   ]
  },
  {
   "cell_type": "code",
   "execution_count": null,
   "id": "b2ce5316",
   "metadata": {},
   "outputs": [],
   "source": [
    "plt.figure(figsize=(6,4))\n",
    "sns.countplot(x='Educational special needs', hue='Target', data=df)\n",
    "plt.title('Educational special needs by Target')\n",
    "plt.show()\n",
    "vc = df.groupby('Target')['Educational special needs'].value_counts().unstack(fill_value=0)\n",
    "vc.to_csv('eda_outputs/eda_educational_special_needs_by_target.csv')"
   ]
  },
  {
   "cell_type": "markdown",
   "id": "84065a47",
   "metadata": {
    "cell_marker": "\"\"\""
   },
   "source": [
    "## 11. Feature Correlation (Continuous Variables)\n",
    "A correlation heatmap of continuous features helps identify multicollinearity and informs feature selection for modeling."
   ]
  },
  {
   "cell_type": "code",
   "execution_count": null,
   "id": "48defe57",
   "metadata": {
    "lines_to_next_cell": 0
   },
   "outputs": [],
   "source": [
    "continuous_vars = [\n",
    "    'Previous qualification (grade)', 'Admission grade',\n",
    "    'Curricular units 1st sem (grade)', 'Curricular units 2nd sem (grade)',\n",
    "    'Unemployment rate', 'Inflation rate', 'GDP', 'Age at enrollment'\n",
    "]\n",
    "sns.heatmap(df[continuous_vars].corr(), annot=True, cmap='coolwarm')\n",
    "plt.title('Correlation Heatmap (Continuous Variables)')\n",
    "plt.show()\n",
    "df[continuous_vars].corr().to_csv('eda_outputs/eda_continuous_feature_correlation.csv') "
   ]
  },
  {
   "cell_type": "code",
   "execution_count": null,
   "id": "e197ad19",
   "metadata": {},
   "outputs": [],
   "source": []
  }
 ],
 "metadata": {
  "jupytext": {
   "cell_metadata_filter": "-all",
   "main_language": "python",
   "notebook_metadata_filter": "-all"
  }
 },
 "nbformat": 4,
 "nbformat_minor": 5
}
